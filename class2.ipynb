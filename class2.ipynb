{
 "cells": [
  {
   "cell_type": "code",
   "execution_count": 1,
   "metadata": {},
   "outputs": [
    {
     "name": "stdout",
     "output_type": "stream",
     "text": [
      "name\n"
     ]
    }
   ],
   "source": [
    "print(\"name\")"
   ]
  },
  {
   "cell_type": "code",
   "execution_count": 2,
   "metadata": {},
   "outputs": [
    {
     "ename": "NameError",
     "evalue": "name 'name' is not defined",
     "output_type": "error",
     "traceback": [
      "\u001b[1;31m---------------------------------------------------------------------------\u001b[0m",
      "\u001b[1;31mNameError\u001b[0m                                 Traceback (most recent call last)",
      "\u001b[1;32me:\\PIAIC\\Data Science\\Class2\\class2.ipynb Cell 2\u001b[0m line \u001b[0;36m1\n\u001b[1;32m----> <a href='vscode-notebook-cell:/e%3A/PIAIC/Data%20Science/Class2/class2.ipynb#W1sZmlsZQ%3D%3D?line=0'>1</a>\u001b[0m \u001b[39mprint\u001b[39m(name)\n",
      "\u001b[1;31mNameError\u001b[0m: name 'name' is not defined"
     ]
    }
   ],
   "source": [
    "print(name)"
   ]
  },
  {
   "cell_type": "code",
   "execution_count": 3,
   "metadata": {},
   "outputs": [
    {
     "name": "stdout",
     "output_type": "stream",
     "text": [
      "Abdul Rehman\n"
     ]
    }
   ],
   "source": [
    "name :str = \"Abdul Rehman\"\n",
    "print(name)"
   ]
  },
  {
   "cell_type": "markdown",
   "metadata": {},
   "source": [
    "#String Data Type in Python"
   ]
  },
  {
   "cell_type": "code",
   "execution_count": 5,
   "metadata": {},
   "outputs": [
    {
     "name": "stdout",
     "output_type": "stream",
     "text": [
      "<class 'str'>\n",
      "Abdul Rehman\n"
     ]
    }
   ],
   "source": [
    "name :str = \"Abdul Rehman\"\n",
    "print(type(name))\n",
    "print(name)"
   ]
  },
  {
   "cell_type": "code",
   "execution_count": 6,
   "metadata": {},
   "outputs": [
    {
     "name": "stdout",
     "output_type": "stream",
     "text": [
      "PIAIC Student Card \n",
      " Father's name\n"
     ]
    }
   ],
   "source": [
    "message : str = \"PIAIC Student Card \\n Father's name\"\n",
    "print(message)"
   ]
  },
  {
   "cell_type": "code",
   "execution_count": 7,
   "metadata": {},
   "outputs": [
    {
     "ename": "TypeError",
     "evalue": "can only concatenate str (not \"int\") to str",
     "output_type": "error",
     "traceback": [
      "\u001b[1;31m---------------------------------------------------------------------------\u001b[0m",
      "\u001b[1;31mTypeError\u001b[0m                                 Traceback (most recent call last)",
      "\u001b[1;32me:\\PIAIC\\Data Science\\Class2\\class2.ipynb Cell 7\u001b[0m line \u001b[0;36m6\n\u001b[0;32m      <a href='vscode-notebook-cell:/e%3A/PIAIC/Data%20Science/Class2/class2.ipynb#X11sZmlsZQ%3D%3D?line=2'>3</a>\u001b[0m education: \u001b[39mstr\u001b[39m \u001b[39m=\u001b[39m \u001b[39m\"\u001b[39m\u001b[39mBSSE\u001b[39m\u001b[39m\"\u001b[39m\n\u001b[0;32m      <a href='vscode-notebook-cell:/e%3A/PIAIC/Data%20Science/Class2/class2.ipynb#X11sZmlsZQ%3D%3D?line=3'>4</a>\u001b[0m age : \u001b[39mint\u001b[39m \u001b[39m=\u001b[39m \u001b[39m30\u001b[39m\n\u001b[1;32m----> <a href='vscode-notebook-cell:/e%3A/PIAIC/Data%20Science/Class2/class2.ipynb#X11sZmlsZQ%3D%3D?line=5'>6</a>\u001b[0m card : \u001b[39mstr\u001b[39m \u001b[39m=\u001b[39m \u001b[39m\"\u001b[39;49m\u001b[39mPIAIC Student Card \u001b[39;49m\u001b[39m\\n\u001b[39;49;00m\u001b[39m Student Name: \u001b[39;49m\u001b[39m\"\u001b[39;49m \u001b[39m+\u001b[39;49m name \u001b[39m+\u001b[39;49m \u001b[39m\"\u001b[39;49m\u001b[39m\\n\u001b[39;49;00m\u001b[39m Age :\u001b[39;49m\u001b[39m\"\u001b[39;49m \u001b[39m+\u001b[39;49m age\n\u001b[0;32m      <a href='vscode-notebook-cell:/e%3A/PIAIC/Data%20Science/Class2/class2.ipynb#X11sZmlsZQ%3D%3D?line=6'>7</a>\u001b[0m \u001b[39mprint\u001b[39m(card)\n",
      "\u001b[1;31mTypeError\u001b[0m: can only concatenate str (not \"int\") to str"
     ]
    }
   ],
   "source": [
    "name : str = \"Abdul Rehman\"\n",
    "fname : str = \"Maqsood Hussain\"\n",
    "education: str = \"BSSE\"\n",
    "age : int = 30\n",
    "\n",
    "card : str = \"PIAIC Student Card \\n Student Name: \" + name + \"\\n Age :\" + age\n",
    "print(card)"
   ]
  },
  {
   "cell_type": "code",
   "execution_count": 8,
   "metadata": {},
   "outputs": [
    {
     "name": "stdout",
     "output_type": "stream",
     "text": [
      "PIAIC Student Card \n",
      " Student Name: Abdul Rehman\n",
      " Age :30\n"
     ]
    }
   ],
   "source": [
    "name : str = \"Abdul Rehman\"\n",
    "fname : str = \"Maqsood Hussain\"\n",
    "education: str = \"BSSE\"\n",
    "age : int = 30\n",
    "\n",
    "card : str = \"PIAIC Student Card \\n Student Name: \" + name + \"\\n Age :\" + str(age)\n",
    "print(card)"
   ]
  },
  {
   "cell_type": "markdown",
   "metadata": {},
   "source": [
    "Multi_Line String \"\"\" \"\"\", ''' '''"
   ]
  },
  {
   "cell_type": "code",
   "execution_count": 9,
   "metadata": {},
   "outputs": [
    {
     "name": "stdout",
     "output_type": "stream",
     "text": [
      " \n",
      "PIAIC Student Card\n",
      "Student Name:\n",
      "Father's Name:\n",
      "Age:\n",
      "Education:\n",
      "\n"
     ]
    }
   ],
   "source": [
    "name : str = \"Abdul Rehman\"\n",
    "fname : str = \"Maqsood Hussain\"\n",
    "education: str = \"BSSE\"\n",
    "age : int = 30\n",
    "\n",
    "card : str = \"\"\" \n",
    "PIAIC Student Card\n",
    "Student Name:\n",
    "Father's Name:\n",
    "Age:\n",
    "Education:\n",
    "\"\"\"\n",
    "\n",
    "print(card)"
   ]
  },
  {
   "cell_type": "markdown",
   "metadata": {},
   "source": [
    "F_String Python"
   ]
  },
  {
   "cell_type": "code",
   "execution_count": 11,
   "metadata": {},
   "outputs": [
    {
     "name": "stdout",
     "output_type": "stream",
     "text": [
      " \n",
      "PIAIC Student Card\n",
      "Student Name: Abdul Rehman\n",
      "Father's Name: Maqsood Hussain\n",
      "Age: 30\n",
      "Education: BSSE\n",
      "\n"
     ]
    }
   ],
   "source": [
    "name : str = \"Abdul Rehman\"\n",
    "fname : str = \"Maqsood Hussain\"\n",
    "education: str = \"BSSE\"\n",
    "age : int = 30\n",
    "\n",
    "card : str = f\"\"\" \n",
    "PIAIC Student Card\n",
    "Student Name: {name}\n",
    "Father's Name: {fname}\n",
    "Age: {age}\n",
    "Education: {education}\n",
    "\"\"\"\n",
    "\n",
    "print(card)"
   ]
  },
  {
   "cell_type": "markdown",
   "metadata": {},
   "source": [
    "F-string and Jinja style"
   ]
  },
  {
   "cell_type": "code",
   "execution_count": 12,
   "metadata": {},
   "outputs": [
    {
     "data": {
      "text/plain": [
       "' \\nstudent name : Abdul Rehman\\n'"
      ]
     },
     "execution_count": 12,
     "metadata": {},
     "output_type": "execute_result"
    }
   ],
   "source": [
    "f\"\"\" \n",
    "student name : {name}\n",
    "\"\"\""
   ]
  },
  {
   "cell_type": "code",
   "execution_count": 13,
   "metadata": {},
   "outputs": [
    {
     "data": {
      "text/plain": [
       "'\\nstudent name {{name}}\\n'"
      ]
     },
     "execution_count": 13,
     "metadata": {},
     "output_type": "execute_result"
    }
   ],
   "source": [
    "# Jinja Style\n",
    "\"\"\"\n",
    "student name {{name}}\n",
    "\"\"\""
   ]
  },
  {
   "cell_type": "code",
   "execution_count": 15,
   "metadata": {},
   "outputs": [
    {
     "name": "stdout",
     "output_type": "stream",
     "text": [
      "\n",
      "PIAIC Student Card\n",
      "Student Name : Abdul Rehman\n",
      "Father's Name: Maqsood Hussain\n",
      "Age: 21\n",
      "Education : BSSE\n",
      "\n",
      "\n"
     ]
    }
   ],
   "source": [
    "name : str = 'Abdul Rehman'\n",
    "fname : str = \"Maqsood Hussain\"\n",
    "education : str = \"BSSE\"\n",
    "age : int = 21  \n",
    "\n",
    "card : str = f\"\"\"\n",
    "PIAIC Student Card\n",
    "Student Name : %s\n",
    "Father's Name: %s\n",
    "Age: %d\n",
    "Education : %s\n",
    "\n",
    "\"\"\" % (name, fname, age, education)\n",
    "\n",
    "print(card)"
   ]
  },
  {
   "cell_type": "code",
   "execution_count": 18,
   "metadata": {},
   "outputs": [
    {
     "data": {
      "text/plain": [
       "['capitalize',\n",
       " 'casefold',\n",
       " 'center',\n",
       " 'count',\n",
       " 'encode',\n",
       " 'endswith',\n",
       " 'expandtabs',\n",
       " 'find',\n",
       " 'format',\n",
       " 'index',\n",
       " 'isalnum',\n",
       " 'isalpha',\n",
       " 'isascii',\n",
       " 'isdecimal',\n",
       " 'isdigit',\n",
       " 'isidentifier',\n",
       " 'islower',\n",
       " 'isnumeric',\n",
       " 'isprintable',\n",
       " 'isspace',\n",
       " 'istitle',\n",
       " 'isupper',\n",
       " 'join',\n",
       " 'ljust',\n",
       " 'lower',\n",
       " 'lstrip',\n",
       " 'maketrans',\n",
       " 'partition',\n",
       " 'removeprefix',\n",
       " 'removesuffix',\n",
       " 'replace',\n",
       " 'rfind',\n",
       " 'rindex',\n",
       " 'rjust',\n",
       " 'rpartition',\n",
       " 'rsplit',\n",
       " 'rstrip',\n",
       " 'split',\n",
       " 'splitlines',\n",
       " 'startswith',\n",
       " 'strip',\n",
       " 'swapcase',\n",
       " 'title',\n",
       " 'translate',\n",
       " 'upper',\n",
       " 'zfill']"
      ]
     },
     "execution_count": 18,
     "metadata": {},
     "output_type": "execute_result"
    }
   ],
   "source": [
    "[i for i in dir(str) if \"_\" not in i]"
   ]
  },
  {
   "cell_type": "code",
   "execution_count": 19,
   "metadata": {},
   "outputs": [
    {
     "data": {
      "text/plain": [
       "'Pakistan value a = 7 and value b = 8 '"
      ]
     },
     "execution_count": 19,
     "metadata": {},
     "output_type": "execute_result"
    }
   ],
   "source": [
    "a = 7\n",
    "b = 8\n",
    "#{} Place Holder\n",
    "#                   0                1           0,1\n",
    "\"Pakistan value a = {} and value b = {} \".format(a,b)"
   ]
  },
  {
   "cell_type": "code",
   "execution_count": 21,
   "metadata": {},
   "outputs": [
    {
     "name": "stdout",
     "output_type": "stream",
     "text": [
      "Abdul rehman\n",
      "abdul rehman\n",
      "ABDUL REHMAN\n",
      "abdul rehman\n",
      "b'AbDuL ReHmaN'\n",
      "False\n",
      "True\n",
      "False\n"
     ]
    }
   ],
   "source": [
    "name : str = \"AbDuL ReHmaN\"\n",
    "print(name.capitalize())\n",
    "print(name.lower())\n",
    "print(name.upper())\n",
    "print(name.casefold())\n",
    "print(name.encode())\n",
    "print(name.isnumeric())\n",
    "print(name.isprintable())\n",
    "print(name.isdigit())"
   ]
  },
  {
   "cell_type": "code",
   "execution_count": 22,
   "metadata": {},
   "outputs": [
    {
     "name": "stdout",
     "output_type": "stream",
     "text": [
      "\n",
      "PIAIC Student Card\n",
      "Student Name : Abdul Rehman\n",
      "Father's Name: Maqsood Hussain\n",
      "Age: 21\n",
      "Education : BSSE\n",
      "\n",
      "Total 25\n",
      "\n"
     ]
    }
   ],
   "source": [
    "name : str = 'Abdul Rehman'\n",
    "fname : str = \"Maqsood Hussain\"\n",
    "education : str = \"BSSE\"\n",
    "age : int = 21  \n",
    "\n",
    "card : str = f\"\"\"\n",
    "PIAIC Student Card\n",
    "Student Name : {name}\n",
    "Father's Name: {fname}\n",
    "Age: {age}\n",
    "Education : {education}\n",
    "\n",
    "Total {2+4+3+7+9}\n",
    "\"\"\" \n",
    "\n",
    "print(card)"
   ]
  },
  {
   "cell_type": "code",
   "execution_count": 24,
   "metadata": {},
   "outputs": [
    {
     "name": "stdout",
     "output_type": "stream",
     "text": [
      "\n",
      "PIAIC Student Card\n",
      "Student Name : Maqsood Hussain\n",
      "Father's Name: Abdul Rehman\n",
      "Age: BSSE\n",
      "Education : 21\n",
      "\n"
     ]
    }
   ],
   "source": [
    "name : str = 'Abdul Rehman'\n",
    "fname : str = \"Maqsood Hussain\"\n",
    "education : str = \"BSSE\"\n",
    "age : int = 21  \n",
    "\n",
    "card : str = \"\"\"\n",
    "PIAIC Student Card\n",
    "Student Name : {}\n",
    "Father's Name: {}\n",
    "Age: {}\n",
    "Education : {}\n",
    "\"\"\".format(fname,name,education,age)\n",
    "print(card)"
   ]
  },
  {
   "cell_type": "code",
   "execution_count": 25,
   "metadata": {},
   "outputs": [
    {
     "name": "stdout",
     "output_type": "stream",
     "text": [
      "\n",
      "PIAIC Student Card\n",
      "Student Name : Abdul Rehman\n",
      "Father's Name: Maqsood Hussain\n",
      "Age: 21\n",
      "Education : BSSE\n",
      "\n"
     ]
    }
   ],
   "source": [
    "name : str = 'Abdul Rehman'\n",
    "fname : str = \"Maqsood Hussain\"\n",
    "education : str = \"BSSE\"\n",
    "age : int = 21  \n",
    "\n",
    "card : str = \"\"\"\n",
    "PIAIC Student Card\n",
    "Student Name : {}\n",
    "Father's Name: {}\n",
    "Age: {}\n",
    "Education : {}\n",
    "\"\"\".format(name,fname,age,education)\n",
    "\n",
    "print(card)"
   ]
  },
  {
   "cell_type": "code",
   "execution_count": 26,
   "metadata": {},
   "outputs": [
    {
     "name": "stdout",
     "output_type": "stream",
     "text": [
      "\n",
      "PIAIC Student Card\n",
      "Student Name : Abdul Rehman\n",
      "Father's Name: Maqsood Hussain\n",
      "Age: 21\n",
      "Education : BSSE\n",
      "\n"
     ]
    }
   ],
   "source": [
    "name : str = 'Abdul Rehman'\n",
    "fname : str = \"Maqsood Hussain\"\n",
    "education : str = \"BSSE\"\n",
    "age : int = 21  \n",
    "\n",
    "card : str = \"\"\"\n",
    "PIAIC Student Card\n",
    "Student Name : {1}\n",
    "Father's Name: {0}\n",
    "Age: {3}\n",
    "Education : {2}\n",
    "\"\"\".format(fname,name,education,age)\n",
    "\n",
    "print(card)"
   ]
  },
  {
   "cell_type": "code",
   "execution_count": 27,
   "metadata": {},
   "outputs": [
    {
     "name": "stdout",
     "output_type": "stream",
     "text": [
      "\n",
      "PIAIC Student Card\n",
      "Student Name : Abdul Rehman\n",
      "Father's Name: Maqsood Hussain\n",
      "Age: 21\n",
      "Education : BSSE\n",
      "\n"
     ]
    }
   ],
   "source": [
    "name : str = 'Abdul Rehman'\n",
    "fname : str = \"Maqsood Hussain\"\n",
    "education : str = \"BSSE\"\n",
    "age : int = 21  \n",
    "\n",
    "card : str = \"\"\"\n",
    "PIAIC Student Card\n",
    "Student Name : {a}\n",
    "Father's Name: {b}\n",
    "Age: {c}\n",
    "Education : {d}\n",
    "\"\"\".format(a=name, b=fname, c=age, d=education)\n",
    "\n",
    "print(card)"
   ]
  },
  {
   "cell_type": "markdown",
   "metadata": {},
   "source": [
    "#Recommended below two f-string format"
   ]
  },
  {
   "cell_type": "code",
   "execution_count": 28,
   "metadata": {},
   "outputs": [
    {
     "name": "stdout",
     "output_type": "stream",
     "text": [
      "\n",
      "PIAIC Student Card\n",
      "Student Name : Abdul Rehman\n",
      "Father's Name: Maqsood Hussain\n",
      "Age: 21\n",
      "Education : BSSE\n",
      "\n"
     ]
    }
   ],
   "source": [
    "name : str = 'Abdul Rehman'\n",
    "fname : str = \"Maqsood Hussain\"\n",
    "education : str = \"BSSE\"\n",
    "age : int = 21  \n",
    "\n",
    "card : str = f\"\"\"\n",
    "PIAIC Student Card\n",
    "Student Name : {name}\n",
    "Father's Name: {fname}\n",
    "Age: {age}\n",
    "Education : {education}\n",
    "\"\"\"\n",
    "\n",
    "print(card)"
   ]
  },
  {
   "cell_type": "code",
   "execution_count": 29,
   "metadata": {},
   "outputs": [
    {
     "name": "stdout",
     "output_type": "stream",
     "text": [
      "My name is Abdul Rehman\n",
      "15\n"
     ]
    }
   ],
   "source": [
    "student_code : str = \"\"\"\n",
    "print(\"My name is Abdul Rehman\")\n",
    "a : int = 7\n",
    "b : int = 8\n",
    "print(a+b)\n",
    "\"\"\"\n",
    "\n",
    "exec(student_code)"
   ]
  },
  {
   "cell_type": "code",
   "execution_count": 30,
   "metadata": {},
   "outputs": [
    {
     "data": {
      "text/plain": [
       "'\\nprint(\"My name is Abdul Rehman\")\\na : int = 7\\nb : int = 8\\nprint(a+b)\\n'"
      ]
     },
     "metadata": {},
     "output_type": "display_data"
    }
   ],
   "source": [
    "student_code : str = \"\"\"\n",
    "print(\"My name is Abdul Rehman\")\n",
    "a : int = 7\n",
    "b : int = 8\n",
    "print(a+b)\n",
    "\"\"\"\n",
    "\n",
    "display(student_code)"
   ]
  },
  {
   "cell_type": "markdown",
   "metadata": {},
   "source": [
    "# Explore String methods and attributes\n",
    "### Pre-Defined Global Functions\n",
    "\n",
    "_print\n",
    "_type\n",
    "_id\n",
    "_dir\n",
    "_len"
   ]
  },
  {
   "cell_type": "code",
   "execution_count": 31,
   "metadata": {},
   "outputs": [
    {
     "name": "stdout",
     "output_type": "stream",
     "text": [
      "['capitalize', 'casefold', 'center', 'count', 'encode', 'endswith', 'expandtabs', 'find', 'format', 'index', 'isalnum', 'isalpha', 'isascii', 'isdecimal', 'isdigit', 'isidentifier', 'islower', 'isnumeric', 'isprintable', 'isspace', 'istitle', 'isupper', 'join', 'ljust', 'lower', 'lstrip', 'maketrans', 'partition', 'removeprefix', 'removesuffix', 'replace', 'rfind', 'rindex', 'rjust', 'rpartition', 'rsplit', 'rstrip', 'split', 'splitlines', 'startswith', 'strip', 'swapcase', 'title', 'translate', 'upper', 'zfill']\n",
      "46\n"
     ]
    }
   ],
   "source": [
    "a : list[str] = [i for i in dir(str) if \"_\" not in  i]\n",
    "print(a)\n",
    "print(len(a))"
   ]
  },
  {
   "cell_type": "code",
   "execution_count": 32,
   "metadata": {},
   "outputs": [
    {
     "name": "stdout",
     "output_type": "stream",
     "text": [
      "Abdul rehman\n"
     ]
    }
   ],
   "source": [
    "name : str = \"AbDul RehMAn\"\n",
    "\n",
    "#variable_name.method()\n",
    "print(name.capitalize())"
   ]
  },
  {
   "cell_type": "code",
   "execution_count": 33,
   "metadata": {},
   "outputs": [
    {
     "name": "stdout",
     "output_type": "stream",
     "text": [
      "AbDul RehMAn\n",
      "abdul rehman\n"
     ]
    }
   ],
   "source": [
    "name : str = \"AbDul RehMAn\"\n",
    "\n",
    "#variable_name.method()\n",
    "print(name)\n",
    "print(name.casefold())"
   ]
  },
  {
   "cell_type": "code",
   "execution_count": 34,
   "metadata": {},
   "outputs": [
    {
     "name": "stdout",
     "output_type": "stream",
     "text": [
      "AbDul RehMAn\n",
      "abdul rehman\n"
     ]
    }
   ],
   "source": [
    "name : str = \"AbDul RehMAn\"\n",
    "\n",
    "#variable_name.method()\n",
    "print(name)\n",
    "print(name.lower())"
   ]
  },
  {
   "cell_type": "code",
   "execution_count": 36,
   "metadata": {},
   "outputs": [
    {
     "name": "stdout",
     "output_type": "stream",
     "text": [
      "          AbDul RehMAn\n",
      "AbDul RehMAn\n"
     ]
    }
   ],
   "source": [
    "name : str = \"          AbDul RehMAn\"\n",
    "\n",
    "#variable_name.method()\n",
    "print(name)\n",
    "print(name.lstrip())"
   ]
  },
  {
   "cell_type": "code",
   "execution_count": 37,
   "metadata": {},
   "outputs": [
    {
     "name": "stdout",
     "output_type": "stream",
     "text": [
      "AbDul RehMAn\n",
      "AbDul RehMAn\n"
     ]
    }
   ],
   "source": [
    "name : str = \"AbDul RehMAn\"\n",
    "\n",
    "#variable_name.method()\n",
    "print(name)\n",
    "print(name.rstrip())"
   ]
  },
  {
   "cell_type": "code",
   "execution_count": 38,
   "metadata": {},
   "outputs": [
    {
     "name": "stdout",
     "output_type": "stream",
     "text": [
      "            AbDul      RehMAn               \n",
      "AbDul      RehMAn\n"
     ]
    }
   ],
   "source": [
    "name : str = \"            AbDul      RehMAn               \"\n",
    "\n",
    "#variable_name.method()\n",
    "print(name)\n",
    "print(name.strip())"
   ]
  },
  {
   "cell_type": "code",
   "execution_count": 39,
   "metadata": {},
   "outputs": [
    {
     "data": {
      "text/plain": [
       "'      MuHammAd           QasIm         '"
      ]
     },
     "metadata": {},
     "output_type": "display_data"
    },
    {
     "data": {
      "text/plain": [
       "'MuHammAd QasIm'"
      ]
     },
     "metadata": {},
     "output_type": "display_data"
    }
   ],
   "source": [
    "import re\n",
    "\n",
    "name : str = \"      MuHammAd           QasIm         \"\n",
    "\n",
    "display(name)\n",
    "\n",
    "name1 : str = re.sub(' {2,100}',' ', name).strip()\n",
    "display(name1)"
   ]
  },
  {
   "cell_type": "code",
   "execution_count": 40,
   "metadata": {},
   "outputs": [
    {
     "data": {
      "text/plain": [
       "'MuHammAd QasIm'"
      ]
     },
     "metadata": {},
     "output_type": "display_data"
    },
    {
     "data": {
      "text/plain": [
       "'Muhammad Qasim'"
      ]
     },
     "metadata": {},
     "output_type": "display_data"
    }
   ],
   "source": [
    "name : str = \"MuHammAd QasIm\"\n",
    "\n",
    "#variable_name.method()\n",
    "display(name)\n",
    "display(name.title())"
   ]
  },
  {
   "cell_type": "code",
   "execution_count": 41,
   "metadata": {},
   "outputs": [
    {
     "name": "stdout",
     "output_type": "stream",
     "text": [
      "ADA LOVELACE\n",
      "ada lovelace\n"
     ]
    }
   ],
   "source": [
    "name:str = \"Ada Lovelace\"\n",
    "print(name.upper())\n",
    "print(name.lower())"
   ]
  },
  {
   "cell_type": "code",
   "execution_count": 42,
   "metadata": {},
   "outputs": [
    {
     "name": "stdout",
     "output_type": "stream",
     "text": [
      "Name:\t\t Abdul Rehman\n"
     ]
    }
   ],
   "source": [
    "print(\"Name:\\t\\t Abdul Rehman\")"
   ]
  },
  {
   "cell_type": "code",
   "execution_count": 43,
   "metadata": {},
   "outputs": [
    {
     "name": "stdout",
     "output_type": "stream",
     "text": [
      "Name:\n",
      "Abdul Rehman\n"
     ]
    }
   ],
   "source": [
    "print(\"Name:\\nAbdul Rehman\")"
   ]
  },
  {
   "cell_type": "code",
   "execution_count": 44,
   "metadata": {},
   "outputs": [
    {
     "name": "stdout",
     "output_type": "stream",
     "text": [
      "NameAbdul Rehman\n"
     ]
    }
   ],
   "source": [
    "print(\"Name:\\bAbdul Rehman\")"
   ]
  },
  {
   "cell_type": "code",
   "execution_count": 45,
   "metadata": {},
   "outputs": [
    {
     "data": {
      "text/plain": [
       "'nostarch.com'"
      ]
     },
     "execution_count": 45,
     "metadata": {},
     "output_type": "execute_result"
    }
   ],
   "source": [
    "nostarch_url:str = 'https://nostarch.com'\n",
    "nostarch_url.removeprefix('https://')"
   ]
  },
  {
   "cell_type": "code",
   "execution_count": 46,
   "metadata": {},
   "outputs": [
    {
     "ename": "SyntaxError",
     "evalue": "invalid decimal literal (2214117265.py, line 1)",
     "output_type": "error",
     "traceback": [
      "\u001b[1;36m  Cell \u001b[1;32mIn[46], line 1\u001b[1;36m\u001b[0m\n\u001b[1;33m    1name : str = \"Qasim\"\u001b[0m\n\u001b[1;37m    ^\u001b[0m\n\u001b[1;31mSyntaxError\u001b[0m\u001b[1;31m:\u001b[0m invalid decimal literal\n"
     ]
    }
   ],
   "source": [
    "1name : str = \"Qasim\"\n",
    "print(1name)"
   ]
  },
  {
   "cell_type": "code",
   "execution_count": 47,
   "metadata": {},
   "outputs": [
    {
     "name": "stdout",
     "output_type": "stream",
     "text": [
      "Qasim\n"
     ]
    }
   ],
   "source": [
    "_1name : str = \"Abdul\"\n",
    "print(_1name)"
   ]
  },
  {
   "cell_type": "code",
   "execution_count": 51,
   "metadata": {},
   "outputs": [
    {
     "ename": "SyntaxError",
     "evalue": "invalid syntax (607538401.py, line 1)",
     "output_type": "error",
     "traceback": [
      "\u001b[1;36m  Cell \u001b[1;32mIn[51], line 1\u001b[1;36m\u001b[0m\n\u001b[1;33m    piaic student name : str = \"Abdul Rehman\"\u001b[0m\n\u001b[1;37m          ^\u001b[0m\n\u001b[1;31mSyntaxError\u001b[0m\u001b[1;31m:\u001b[0m invalid syntax\n"
     ]
    }
   ],
   "source": [
    "piaic student name : str = \"Abdul Rehman\"\n",
    "print(piaic student name)"
   ]
  },
  {
   "cell_type": "code",
   "execution_count": 50,
   "metadata": {},
   "outputs": [
    {
     "name": "stdout",
     "output_type": "stream",
     "text": [
      "Abdul Rehman\n"
     ]
    }
   ],
   "source": [
    "piaic_student_name : str = \"Abdul Rehman\"\n",
    "print(piaic_student_name)"
   ]
  },
  {
   "cell_type": "code",
   "execution_count": null,
   "metadata": {},
   "outputs": [],
   "source": []
  }
 ],
 "metadata": {
  "kernelspec": {
   "display_name": "python12",
   "language": "python",
   "name": "python3"
  },
  "language_info": {
   "codemirror_mode": {
    "name": "ipython",
    "version": 3
   },
   "file_extension": ".py",
   "mimetype": "text/x-python",
   "name": "python",
   "nbconvert_exporter": "python",
   "pygments_lexer": "ipython3",
   "version": "3.12.0"
  }
 },
 "nbformat": 4,
 "nbformat_minor": 2
}
