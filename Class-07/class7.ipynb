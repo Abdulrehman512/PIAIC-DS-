{
 "cells": [
  {
   "cell_type": "code",
   "execution_count": 1,
   "metadata": {},
   "outputs": [
    {
     "name": "stdout",
     "output_type": "stream",
     "text": [
      "Farhan\n"
     ]
    }
   ],
   "source": [
    "# List                    0                1            2\n",
    "data : list[str] = [\"Abdul\",\"Farhan\",\"Hamza\"]\n",
    "\n",
    "print(data[1])"
   ]
  },
  {
   "cell_type": "code",
   "execution_count": 2,
   "metadata": {},
   "outputs": [
    {
     "name": "stdout",
     "output_type": "stream",
     "text": [
      "{1, 2, 3, 7}\n"
     ]
    }
   ],
   "source": [
    "data : set = {7,1,2,1,1,1,1,3,2}\n",
    "print(data) # return unique"
   ]
  },
  {
   "cell_type": "code",
   "execution_count": 3,
   "metadata": {},
   "outputs": [
    {
     "data": {
      "text/plain": [
       "['add',\n",
       " 'clear',\n",
       " 'copy',\n",
       " 'difference',\n",
       " 'difference_update',\n",
       " 'discard',\n",
       " 'intersection',\n",
       " 'intersection_update',\n",
       " 'isdisjoint',\n",
       " 'issubset',\n",
       " 'issuperset',\n",
       " 'pop',\n",
       " 'remove',\n",
       " 'symmetric_difference',\n",
       " 'symmetric_difference_update',\n",
       " 'union',\n",
       " 'update']"
      ]
     },
     "execution_count": 3,
     "metadata": {},
     "output_type": "execute_result"
    }
   ],
   "source": [
    "[i for i in dir(data) if \"__\" not in i]"
   ]
  },
  {
   "cell_type": "code",
   "execution_count": 5,
   "metadata": {},
   "outputs": [
    {
     "ename": "TypeError",
     "evalue": "'set' object is not subscriptable",
     "output_type": "error",
     "traceback": [
      "\u001b[1;31m---------------------------------------------------------------------------\u001b[0m",
      "\u001b[1;31mTypeError\u001b[0m                                 Traceback (most recent call last)",
      "\u001b[1;32me:\\PIAIC\\Data Science\\Class-07\\class7.ipynb Cell 4\u001b[0m line \u001b[0;36m2\n\u001b[0;32m      <a href='vscode-notebook-cell:/e%3A/PIAIC/Data%20Science/Class-07/class7.ipynb#W3sZmlsZQ%3D%3D?line=0'>1</a>\u001b[0m data : \u001b[39mset\u001b[39m \u001b[39m=\u001b[39m {\u001b[39m7\u001b[39m,\u001b[39m1\u001b[39m,\u001b[39m2\u001b[39m,\u001b[39m1\u001b[39m,\u001b[39m1\u001b[39m,\u001b[39m1\u001b[39m,\u001b[39m1\u001b[39m,\u001b[39m3\u001b[39m,\u001b[39m2\u001b[39m}\n\u001b[1;32m----> <a href='vscode-notebook-cell:/e%3A/PIAIC/Data%20Science/Class-07/class7.ipynb#W3sZmlsZQ%3D%3D?line=1'>2</a>\u001b[0m \u001b[39mprint\u001b[39m(data[\u001b[39m0\u001b[39;49m]) \u001b[39m# return error\u001b[39;00m\n",
      "\u001b[1;31mTypeError\u001b[0m: 'set' object is not subscriptable"
     ]
    }
   ],
   "source": [
    "data : set = {7,1,2,1,1,1,1,3,2}\n",
    "print(data[0]) # return error"
   ]
  },
  {
   "cell_type": "markdown",
   "metadata": {},
   "source": [
    "# Dictionary"
   ]
  },
  {
   "cell_type": "code",
   "execution_count": 6,
   "metadata": {},
   "outputs": [
    {
     "name": "stdout",
     "output_type": "stream",
     "text": [
      "{'education': 'BSSE', 'fname': 'Maqsood Hussain', 'name': 'Abdul Rehman'}\n"
     ]
    }
   ],
   "source": [
    "from typing import Dict\n",
    "import pprint\n",
    "\n",
    "# List                    0                1            2\n",
    "data : Dict[str,str] = {\n",
    "                        \"fname\":\"Maqsood Hussain\",\n",
    "                        \"name\":\"Abdul Rehman\",\n",
    "                        \"education\": \"BSSE\"\n",
    "                        }\n",
    "\n",
    "pprint.pprint(data)"
   ]
  },
  {
   "cell_type": "code",
   "execution_count": 7,
   "metadata": {},
   "outputs": [
    {
     "name": "stdout",
     "output_type": "stream",
     "text": [
      "{'education': 'BSSE', 'fname': 'Maqsood Hussain', 'name': 'Abdul Rehman'}\n"
     ]
    }
   ],
   "source": [
    "from typing import Dict, Union, Optional\n",
    "import pprint\n",
    "\n",
    "key = Union[int,str] #create custom type\n",
    "Value = Union[int,str,list,dict,tuple,set]\n",
    "\n",
    "# List                    0                1            2\n",
    "data : Dict[key,Value] = {\n",
    "                        \"fname\":\"Maqsood Hussain\",\n",
    "                        \"name\":\"Abdul Rehman\",\n",
    "                        \"education\": \"BSSE\"\n",
    "                        }\n",
    "\n",
    "pprint.pprint(data)\n"
   ]
  },
  {
   "cell_type": "code",
   "execution_count": 9,
   "metadata": {},
   "outputs": [
    {
     "name": "stdout",
     "output_type": "stream",
     "text": [
      "{'education': 'BSSE', 'fname': 'Maqsood Hussain', 'name': 'Abdul Rehman'}\n",
      "['data']\n",
      "Maqsood Hussain\n",
      "Abdul Rehman\n",
      "BSSE\n"
     ]
    }
   ],
   "source": [
    "from typing import Dict, Union, Optional\n",
    "import pprint\n",
    "\n",
    "key = Union[int,str] #create custom type\n",
    "Value = Union[int,str,list,dict,tuple,set]\n",
    "\n",
    "# List                    0                1            2\n",
    "data : Dict[key,Value] = {\n",
    "                        \"fname\":\"Maqsood Hussain\",\n",
    "                        \"name\":\"Abdul Rehman\",\n",
    "                        \"education\": \"BSSE\"\n",
    "                        }\n",
    "\n",
    "pprint.pprint(data)\n",
    "print(['data'])\n",
    "print(data['fname'])\n",
    "print(data['name'])\n",
    "print(data['education'])"
   ]
  },
  {
   "cell_type": "code",
   "execution_count": 10,
   "metadata": {},
   "outputs": [
    {
     "name": "stdout",
     "output_type": "stream",
     "text": [
      "{11: 'Pakistan',\n",
      " 'education': 'BSSE',\n",
      " 'fname': 'Maqsood Hussain',\n",
      " 'name': 'Abdul Rehman'}\n",
      "['data']\n",
      "Maqsood Hussain\n",
      "Abdul Rehman\n",
      "BSSE\n",
      "Pakistan\n"
     ]
    }
   ],
   "source": [
    "from typing import Dict, Union, Optional\n",
    "import pprint\n",
    "\n",
    "key = Union[int,str] #create custom type\n",
    "Value = Union[int,str,list,dict,tuple,set]\n",
    "\n",
    "# List                    0                1            2\n",
    "data : Dict[key,Value] = {\n",
    "                        \"fname\":\"Maqsood Hussain\",\n",
    "                        \"name\":\"Abdul Rehman\",\n",
    "                        \"education\": \"BSSE\",\n",
    "                        11: \"Pakistan\"\n",
    "                        }\n",
    "\n",
    "pprint.pprint(data)\n",
    "print(['data'])\n",
    "print(data['fname'])\n",
    "print(data['name'])\n",
    "print(data['education'])\n",
    "print(data[11])"
   ]
  },
  {
   "cell_type": "code",
   "execution_count": 11,
   "metadata": {},
   "outputs": [
    {
     "name": "stdout",
     "output_type": "stream",
     "text": [
      "{'education': 'BSSE', 'fname': 'Maqsood Hussain', 'name': 'Abdul Rehman'}\n",
      "['data']\n",
      "Maqsood Hussain\n",
      "Abdul Rehman\n",
      "BSSE\n"
     ]
    }
   ],
   "source": [
    "from typing import Dict, Union, Optional\n",
    "import pprint\n",
    "\n",
    "key = Union[int,str] #create custom type\n",
    "Value = Union[int,str,list,dict,tuple,set]\n",
    "\n",
    "# List                    0                1            2\n",
    "data : Dict[key,Value] = {\n",
    "                        \"fname\":\"Maqsood Hussain\",\n",
    "                        \"name\":\"Abdul Rehman\",\n",
    "                        \"education\": \"BSSE\"\n",
    "                        # [1,2,3] : \"Pakistan\", # error\n",
    "                        # (1,2,3) : \"Pakistan\", #error\n",
    "                        # {1,2,3} : \"pakistan\", #error\n",
    "                        }\n",
    "\n",
    "pprint.pprint(data)\n",
    "print(['data'])\n",
    "print(data['fname'])\n",
    "print(data['name'])\n",
    "print(data['education'])\n",
    "# print(data[0]) # index = key"
   ]
  },
  {
   "cell_type": "code",
   "execution_count": 12,
   "metadata": {},
   "outputs": [
    {
     "name": "stdout",
     "output_type": "stream",
     "text": [
      "{'abc': [1, 2, 3],\n",
      " 'cde': (4, 5, 6),\n",
      " 'education': 'BSSE',\n",
      " 'fname': 'Maqsood Hussain',\n",
      " 'name': 'Abdul Rehman',\n",
      " 'xyz': {4, 5, 6}}\n",
      "['data']\n",
      "Maqsood Hussain\n",
      "Abdul Rehman\n",
      "BSSE\n"
     ]
    }
   ],
   "source": [
    "from typing import Dict, Union, Optional\n",
    "import pprint\n",
    "\n",
    "key = Union[int,str] #create custom type\n",
    "Value = Union[int,str,list,dict,tuple,set]\n",
    "\n",
    "# List                    0                1            2\n",
    "data : Dict[key,Value] = {\n",
    "                        \"fname\":\"Maqsood Hussain\",\n",
    "                        \"name\":\"Abdul Rehman\",\n",
    "                        \"education\": \"BSSE\",\n",
    "                        \"abc\" : [1,2,3],\n",
    "                        \"xyz\" : {4,5,6},\n",
    "                        \"cde\" : (4,5,6)\n",
    "                        }\n",
    "\n",
    "pprint.pprint(data)\n",
    "print(['data'])\n",
    "print(data['fname'])\n",
    "print(data['name'])\n",
    "print(data['education'])"
   ]
  },
  {
   "cell_type": "code",
   "execution_count": 13,
   "metadata": {},
   "outputs": [
    {
     "name": "stdout",
     "output_type": "stream",
     "text": [
      "{1, 2, 3}\n",
      "[1, 2, 3]\n"
     ]
    }
   ],
   "source": [
    "abc : set = {1,2,3,2,2,2,1}\n",
    "print(abc)\n",
    "xyz : list[int] = list(abc)\n",
    "print(xyz)"
   ]
  },
  {
   "cell_type": "code",
   "execution_count": 20,
   "metadata": {},
   "outputs": [
    {
     "name": "stdout",
     "output_type": "stream",
     "text": [
      "{'education': 'BSSE', 'fname': 'Maqsood', 'name': 'Abdul'}\n",
      "{'name': 'Subhan', 'fname': 'Maqsood', 'education': 'BSSE'}\n",
      "NA\n",
      "Subhan\n"
     ]
    }
   ],
   "source": [
    "from typing import Dict, Union, Optional\n",
    "import pprint\n",
    "\n",
    "key = Union[int,str] #create custom type\n",
    "Value = Union[int,str,list,dict,tuple,set]\n",
    "\n",
    "# List                    0                1            2\n",
    "data : Dict[key,Value] = {}\n",
    "\n",
    "data['name'] = \"Abdul\"\n",
    "data['fname'] = \"Maqsood\"\n",
    "data['education'] = \"BSSE\"\n",
    "pprint.pprint(data)\n",
    "\n",
    "data['name'] = \"Subhan\" #update value\n",
    "\n",
    "print(data)\n",
    "\n",
    "#print(data['Pakistan']) returns error\n",
    "\n",
    "print(data.get('Pakistan','NA'))\n",
    "print(data.get('name','NA'))\n"
   ]
  },
  {
   "cell_type": "code",
   "execution_count": null,
   "metadata": {},
   "outputs": [],
   "source": []
  }
 ],
 "metadata": {
  "kernelspec": {
   "display_name": "python12",
   "language": "python",
   "name": "python3"
  },
  "language_info": {
   "codemirror_mode": {
    "name": "ipython",
    "version": 3
   },
   "file_extension": ".py",
   "mimetype": "text/x-python",
   "name": "python",
   "nbconvert_exporter": "python",
   "pygments_lexer": "ipython3",
   "version": "3.12.0"
  }
 },
 "nbformat": 4,
 "nbformat_minor": 2
}
