{
 "cells": [
  {
   "cell_type": "code",
   "execution_count": 1,
   "metadata": {},
   "outputs": [
    {
     "name": "stdout",
     "output_type": "stream",
     "text": [
      "logic1\n",
      "logic2\n",
      "2.5\n",
      "1\n",
      "Zerro Division Error!\n",
      "logic4\n",
      "logic5\n"
     ]
    }
   ],
   "source": [
    "print(\"logic1\")\n",
    "print(\"logic2\")\n",
    "\n",
    "l1 : list[int] = [1,2,3]\n",
    "\n",
    "try:\n",
    "    print(5/2)\n",
    "    print(l1[0])\n",
    "    print(xyz) # error\n",
    "except (ZeroDivisionError,IndexError,NameError):\n",
    "    print(\"Zerro Division Error!\")\n",
    "print(\"logic4\")\n",
    "print(\"logic5\")"
   ]
  },
  {
   "cell_type": "code",
   "execution_count": 2,
   "metadata": {},
   "outputs": [
    {
     "name": "stdout",
     "output_type": "stream",
     "text": [
      "logic1\n",
      "logic2\n",
      "2.5\n",
      "1\n",
      "Some thing is wrong!\n",
      "logic4\n",
      "logic5\n"
     ]
    }
   ],
   "source": [
    "print(\"logic1\")\n",
    "print(\"logic2\")\n",
    "\n",
    "l1 : list[int] = [1,2,3]\n",
    "\n",
    "try:\n",
    "    print(5/2)\n",
    "    print(l1[0])# Error\n",
    "    # print(xyz) # error\n",
    "    open(\"aa.txt\")\n",
    "except (ZeroDivisionError):\n",
    "    print(\"Zerro Division Error!\")\n",
    "except IndexError:\n",
    "    print(\"Index Error\")\n",
    "except NameError:\n",
    "    print(\"Name not defined\")\n",
    "except:\n",
    "    print(\"Some thing is wrong!\")\n",
    "\n",
    "\n",
    "print(\"logic4\")\n",
    "print(\"logic5\")"
   ]
  },
  {
   "cell_type": "code",
   "execution_count": 3,
   "metadata": {},
   "outputs": [
    {
     "name": "stdout",
     "output_type": "stream",
     "text": [
      "Some thing is wrong!\n",
      "list index out of range\n"
     ]
    }
   ],
   "source": [
    "try:\n",
    "    # print(age)\n",
    "    print(l1[200])\n",
    "except Exception as e:\n",
    "    print(f\"Some thing is wrong!\\n{e}\")"
   ]
  },
  {
   "cell_type": "code",
   "execution_count": 4,
   "metadata": {},
   "outputs": [
    {
     "name": "stdout",
     "output_type": "stream",
     "text": [
      "Qasim 1 30\n"
     ]
    }
   ],
   "source": [
    "class StudentCard():\n",
    "    def __init__(self, roll_no:int, name:str, age:int) -> None:\n",
    "        if age < 18 or age > 60:\n",
    "            raise StudentAgeError(\"Your are not eligible for this program!\")\n",
    "        self.roll_no = roll_no\n",
    "        self.name = name\n",
    "        self.age = age\n",
    "\n",
    "\n",
    "class StudentAgeError(Exception):# custom error class\n",
    "    pass\n",
    "\n",
    "studen1 = StudentCard(1,\"Qasim\",30)\n",
    "\n",
    "print(studen1.name, studen1.roll_no, studen1.age)"
   ]
  },
  {
   "cell_type": "code",
   "execution_count": 6,
   "metadata": {},
   "outputs": [
    {
     "ename": "StudentAgeError",
     "evalue": "Your are not eligible for this program!",
     "output_type": "error",
     "traceback": [
      "\u001b[1;31m---------------------------------------------------------------------------\u001b[0m",
      "\u001b[1;31mStudentAgeError\u001b[0m                           Traceback (most recent call last)",
      "\u001b[1;32me:\\PIAIC\\Data Science\\Class-12\\class12.ipynb Cell 5\u001b[0m line \u001b[0;36m1\n\u001b[1;32m----> <a href='vscode-notebook-cell:/e%3A/PIAIC/Data%20Science/Class-12/class12.ipynb#W5sZmlsZQ%3D%3D?line=0'>1</a>\u001b[0m studen1 \u001b[39m=\u001b[39m StudentCard(\u001b[39m1\u001b[39;49m,\u001b[39m\"\u001b[39;49m\u001b[39mHammad\u001b[39;49m\u001b[39m\"\u001b[39;49m,\u001b[39m61\u001b[39;49m)\n\u001b[0;32m      <a href='vscode-notebook-cell:/e%3A/PIAIC/Data%20Science/Class-12/class12.ipynb#W5sZmlsZQ%3D%3D?line=2'>3</a>\u001b[0m \u001b[39mprint\u001b[39m(studen1\u001b[39m.\u001b[39mname, studen1\u001b[39m.\u001b[39mroll_no, studen1\u001b[39m.\u001b[39mage)\n",
      "\u001b[1;32me:\\PIAIC\\Data Science\\Class-12\\class12.ipynb Cell 5\u001b[0m line \u001b[0;36m4\n\u001b[0;32m      <a href='vscode-notebook-cell:/e%3A/PIAIC/Data%20Science/Class-12/class12.ipynb#W5sZmlsZQ%3D%3D?line=1'>2</a>\u001b[0m \u001b[39mdef\u001b[39;00m \u001b[39m__init__\u001b[39m(\u001b[39mself\u001b[39m, roll_no:\u001b[39mint\u001b[39m, name:\u001b[39mstr\u001b[39m, age:\u001b[39mint\u001b[39m) \u001b[39m-\u001b[39m\u001b[39m>\u001b[39m \u001b[39mNone\u001b[39;00m:\n\u001b[0;32m      <a href='vscode-notebook-cell:/e%3A/PIAIC/Data%20Science/Class-12/class12.ipynb#W5sZmlsZQ%3D%3D?line=2'>3</a>\u001b[0m     \u001b[39mif\u001b[39;00m age \u001b[39m<\u001b[39m \u001b[39m18\u001b[39m \u001b[39mor\u001b[39;00m age \u001b[39m>\u001b[39m \u001b[39m60\u001b[39m:\n\u001b[1;32m----> <a href='vscode-notebook-cell:/e%3A/PIAIC/Data%20Science/Class-12/class12.ipynb#W5sZmlsZQ%3D%3D?line=3'>4</a>\u001b[0m         \u001b[39mraise\u001b[39;00m StudentAgeError(\u001b[39m\"\u001b[39m\u001b[39mYour are not eligible for this program!\u001b[39m\u001b[39m\"\u001b[39m)\n\u001b[0;32m      <a href='vscode-notebook-cell:/e%3A/PIAIC/Data%20Science/Class-12/class12.ipynb#W5sZmlsZQ%3D%3D?line=4'>5</a>\u001b[0m     \u001b[39mself\u001b[39m\u001b[39m.\u001b[39mroll_no \u001b[39m=\u001b[39m roll_no\n\u001b[0;32m      <a href='vscode-notebook-cell:/e%3A/PIAIC/Data%20Science/Class-12/class12.ipynb#W5sZmlsZQ%3D%3D?line=5'>6</a>\u001b[0m     \u001b[39mself\u001b[39m\u001b[39m.\u001b[39mname \u001b[39m=\u001b[39m name\n",
      "\u001b[1;31mStudentAgeError\u001b[0m: Your are not eligible for this program!"
     ]
    }
   ],
   "source": [
    "studen1 = StudentCard(1,\"Hammad\",61)\n",
    "\n",
    "print(studen1.name, studen1.roll_no, studen1.age)"
   ]
  },
  {
   "cell_type": "code",
   "execution_count": 7,
   "metadata": {},
   "outputs": [
    {
     "ename": "StudentAgeError",
     "evalue": "Your are not eligible for this program!",
     "output_type": "error",
     "traceback": [
      "\u001b[1;31m---------------------------------------------------------------------------\u001b[0m",
      "\u001b[1;31mStudentAgeError\u001b[0m                           Traceback (most recent call last)",
      "\u001b[1;32me:\\PIAIC\\Data Science\\Class-12\\class12.ipynb Cell 6\u001b[0m line \u001b[0;36m1\n\u001b[1;32m----> <a href='vscode-notebook-cell:/e%3A/PIAIC/Data%20Science/Class-12/class12.ipynb#W6sZmlsZQ%3D%3D?line=0'>1</a>\u001b[0m studen1 \u001b[39m=\u001b[39m StudentCard(\u001b[39m1\u001b[39;49m,\u001b[39m\"\u001b[39;49m\u001b[39mHammad\u001b[39;49m\u001b[39m\"\u001b[39;49m,\u001b[39m16\u001b[39;49m)\n\u001b[0;32m      <a href='vscode-notebook-cell:/e%3A/PIAIC/Data%20Science/Class-12/class12.ipynb#W6sZmlsZQ%3D%3D?line=2'>3</a>\u001b[0m \u001b[39mprint\u001b[39m(studen1\u001b[39m.\u001b[39mname, studen1\u001b[39m.\u001b[39mroll_no, studen1\u001b[39m.\u001b[39mage)\n",
      "\u001b[1;32me:\\PIAIC\\Data Science\\Class-12\\class12.ipynb Cell 6\u001b[0m line \u001b[0;36m4\n\u001b[0;32m      <a href='vscode-notebook-cell:/e%3A/PIAIC/Data%20Science/Class-12/class12.ipynb#W6sZmlsZQ%3D%3D?line=1'>2</a>\u001b[0m \u001b[39mdef\u001b[39;00m \u001b[39m__init__\u001b[39m(\u001b[39mself\u001b[39m, roll_no:\u001b[39mint\u001b[39m, name:\u001b[39mstr\u001b[39m, age:\u001b[39mint\u001b[39m) \u001b[39m-\u001b[39m\u001b[39m>\u001b[39m \u001b[39mNone\u001b[39;00m:\n\u001b[0;32m      <a href='vscode-notebook-cell:/e%3A/PIAIC/Data%20Science/Class-12/class12.ipynb#W6sZmlsZQ%3D%3D?line=2'>3</a>\u001b[0m     \u001b[39mif\u001b[39;00m age \u001b[39m<\u001b[39m \u001b[39m18\u001b[39m \u001b[39mor\u001b[39;00m age \u001b[39m>\u001b[39m \u001b[39m60\u001b[39m:\n\u001b[1;32m----> <a href='vscode-notebook-cell:/e%3A/PIAIC/Data%20Science/Class-12/class12.ipynb#W6sZmlsZQ%3D%3D?line=3'>4</a>\u001b[0m         \u001b[39mraise\u001b[39;00m StudentAgeError(\u001b[39m\"\u001b[39m\u001b[39mYour are not eligible for this program!\u001b[39m\u001b[39m\"\u001b[39m)\n\u001b[0;32m      <a href='vscode-notebook-cell:/e%3A/PIAIC/Data%20Science/Class-12/class12.ipynb#W6sZmlsZQ%3D%3D?line=4'>5</a>\u001b[0m     \u001b[39mself\u001b[39m\u001b[39m.\u001b[39mroll_no \u001b[39m=\u001b[39m roll_no\n\u001b[0;32m      <a href='vscode-notebook-cell:/e%3A/PIAIC/Data%20Science/Class-12/class12.ipynb#W6sZmlsZQ%3D%3D?line=5'>6</a>\u001b[0m     \u001b[39mself\u001b[39m\u001b[39m.\u001b[39mname \u001b[39m=\u001b[39m name\n",
      "\u001b[1;31mStudentAgeError\u001b[0m: Your are not eligible for this program!"
     ]
    }
   ],
   "source": [
    "studen1 = StudentCard(1,\"Hammad\",16)\n",
    "\n",
    "print(studen1.name, studen1.roll_no, studen1.age)"
   ]
  },
  {
   "cell_type": "code",
   "execution_count": null,
   "metadata": {},
   "outputs": [],
   "source": []
  }
 ],
 "metadata": {
  "kernelspec": {
   "display_name": "python12",
   "language": "python",
   "name": "python3"
  },
  "language_info": {
   "codemirror_mode": {
    "name": "ipython",
    "version": 3
   },
   "file_extension": ".py",
   "mimetype": "text/x-python",
   "name": "python",
   "nbconvert_exporter": "python",
   "pygments_lexer": "ipython3",
   "version": "3.12.0"
  }
 },
 "nbformat": 4,
 "nbformat_minor": 2
}
