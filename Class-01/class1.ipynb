{
 "cells": [
  {
   "cell_type": "code",
   "execution_count": 1,
   "metadata": {},
   "outputs": [
    {
     "name": "stdout",
     "output_type": "stream",
     "text": [
      "Pakistan\n",
      "Zinda Bad\n",
      "Pakistan\n",
      "Zinda Bad\n",
      "Pakistan\n",
      "Zinda Bad\n",
      "Pakistan\n",
      "Zinda Bad\n",
      "Pakistan\n",
      "Zinda Bad\n",
      "Pakistan\n",
      "Zinda Bad\n"
     ]
    }
   ],
   "source": [
    "print(\"Pakistan\")\n",
    "print(\"Zinda Bad\")\n",
    "print(\"Pakistan\")\n",
    "print(\"Zinda Bad\")\n",
    "print(\"Pakistan\")\n",
    "print(\"Zinda Bad\")\n",
    "print(\"Pakistan\")\n",
    "print(\"Zinda Bad\")\n",
    "print(\"Pakistan\")\n",
    "print(\"Zinda Bad\")\n",
    "print(\"Pakistan\")\n",
    "print(\"Zinda Bad\")"
   ]
  },
  {
   "cell_type": "code",
   "execution_count": 4,
   "metadata": {},
   "outputs": [
    {
     "name": "stdout",
     "output_type": "stream",
     "text": [
      "Abdul Rehman\n",
      "<class 'str'>\n",
      "2946107854448\n",
      "['capitalize', 'casefold', 'center', 'count', 'encode', 'endswith', 'expandtabs', 'find', 'format', 'index', 'isalnum', 'isalpha', 'isascii', 'isdecimal', 'isdigit', 'isidentifier', 'islower', 'isnumeric', 'isprintable', 'isspace', 'istitle', 'isupper', 'join', 'ljust', 'lower', 'lstrip', 'maketrans', 'partition', 'removeprefix', 'removesuffix', 'replace', 'rfind', 'rindex', 'rjust', 'rpartition', 'rsplit', 'rstrip', 'split', 'splitlines', 'startswith', 'strip', 'swapcase', 'title', 'translate', 'upper', 'zfill']\n"
     ]
    }
   ],
   "source": [
    "name = \"Abdul Rehman\"\n",
    "print(name)\n",
    "print(type(name))\n",
    "print(id(name))\n",
    "print([i for i in dir(name) if \"_\" not in i])"
   ]
  },
  {
   "cell_type": "code",
   "execution_count": 5,
   "metadata": {},
   "outputs": [
    {
     "name": "stdout",
     "output_type": "stream",
     "text": [
      "700\n",
      "<class 'int'>\n",
      "2946106910864\n"
     ]
    }
   ],
   "source": [
    "name = \"Abdul Rehman\"\n",
    "name = 700\n",
    "print(name) # print\n",
    "print(type(name)) # type\n",
    "print(id(name)) # physcial address"
   ]
  },
  {
   "cell_type": "code",
   "execution_count": 6,
   "metadata": {},
   "outputs": [
    {
     "name": "stdout",
     "output_type": "stream",
     "text": [
      "['a', 'b', 'c']\n",
      "<class 'list'>\n",
      "2946108195392\n"
     ]
    }
   ],
   "source": [
    "name :list[str] = ['a','b','c']\n",
    "print(name)\n",
    "print(type(name))\n",
    "print(id(name))\n"
   ]
  },
  {
   "cell_type": "code",
   "execution_count": null,
   "metadata": {},
   "outputs": [],
   "source": []
  }
 ],
 "metadata": {
  "kernelspec": {
   "display_name": "python12",
   "language": "python",
   "name": "python3"
  },
  "language_info": {
   "codemirror_mode": {
    "name": "ipython",
    "version": 3
   },
   "file_extension": ".py",
   "mimetype": "text/x-python",
   "name": "python",
   "nbconvert_exporter": "python",
   "pygments_lexer": "ipython3",
   "version": "3.12.0"
  }
 },
 "nbformat": 4,
 "nbformat_minor": 2
}
